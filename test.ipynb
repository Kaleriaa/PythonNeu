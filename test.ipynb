{
  "nbformat": 4,
  "nbformat_minor": 0,
  "metadata": {
    "colab": {
      "name": "test.ipynb",
      "provenance": [],
      "collapsed_sections": [],
      "authorship_tag": "ABX9TyMylcWj3pg0QNRBv7mSUJH9",
      "include_colab_link": true
    },
    "kernelspec": {
      "display_name": "Python 3",
      "name": "python3"
    }
  },
  "cells": [
    {
      "cell_type": "markdown",
      "metadata": {
        "id": "view-in-github",
        "colab_type": "text"
      },
      "source": [
        "<a href=\"https://colab.research.google.com/github/Kaleriaa/PythonNeu/blob/main/test.ipynb\" target=\"_parent\"><img src=\"https://colab.research.google.com/assets/colab-badge.svg\" alt=\"Open In Colab\"/></a>"
      ]
    },
    {
      "cell_type": "markdown",
      "metadata": {
        "id": "ECnJ-wDFAjVN"
      },
      "source": [
        "# Lineal regression"
      ]
    },
    {
      "cell_type": "code",
      "metadata": {
        "id": "4sqasBKbDnWD"
      },
      "source": [
        "import tensorflow as tf\n",
        "import numpy as np\n",
        "import matplotlib.pyplot as plt"
      ],
      "execution_count": null,
      "outputs": []
    },
    {
      "cell_type": "code",
      "metadata": {
        "id": "pe6g7zK4w3Ua"
      },
      "source": [
        "X_train = np.linspace(-1,1,101)\n",
        "y_train = 2*X_train + np.random.randn(*X_train.shape) * 0.33"
      ],
      "execution_count": null,
      "outputs": []
    },
    {
      "cell_type": "code",
      "metadata": {
        "id": "eXiDdbV8xucJ"
      },
      "source": [
        "tf.compat.v1.disable_eager_execution()\n",
        "X = tf.compat.v1.placeholder(tf.float32)\n",
        "Y = tf.compat.v1.placeholder(tf.float32)"
      ],
      "execution_count": null,
      "outputs": []
    },
    {
      "cell_type": "code",
      "metadata": {
        "id": "7ZBoDzGj1yo4"
      },
      "source": [
        "def model(X,w):\n",
        "  return tf.multiply(X, w)\n",
        "\n",
        "w = tf.Variable(0.0, name=\"weights\")\n",
        "y_model = model(X,w)\n",
        "error = tf.square(Y-y_model)"
      ],
      "execution_count": null,
      "outputs": []
    },
    {
      "cell_type": "code",
      "metadata": {
        "id": "fdkSzwfd6tg1",
        "colab": {
          "base_uri": "https://localhost:8080/",
          "height": 235
        },
        "outputId": "db783388-1351-4c49-fee9-08b86b7287d1"
      },
      "source": [
        "learning_rate = 0.01\n",
        "train_opt = tf.train.GradientDescentOptimizer(learning_rate).minimize(error)\n",
        "\n",
        "sess = tf.Session()\n",
        "init= tf.global_variables_initializer()\n",
        "sess.run(init)\n",
        "\n",
        "epochs = 100\n",
        "for epoch in range(epochs):\n",
        "  for (x,y) in zip(X_train, y_train):\n",
        "    sess.run(train_opt, feed_dict={X:x, Y:y})\n",
        "\n",
        "w_val = sess.run(w)\n",
        "\n",
        "sess.close()"
      ],
      "execution_count": null,
      "outputs": [
        {
          "output_type": "error",
          "ename": "AttributeError",
          "evalue": "ignored",
          "traceback": [
            "\u001b[0;31m---------------------------------------------------------------------------\u001b[0m",
            "\u001b[0;31mAttributeError\u001b[0m                            Traceback (most recent call last)",
            "\u001b[0;32m<ipython-input-11-5a8b8f9a18be>\u001b[0m in \u001b[0;36m<module>\u001b[0;34m()\u001b[0m\n\u001b[1;32m      1\u001b[0m \u001b[0mlearning_rate\u001b[0m \u001b[0;34m=\u001b[0m \u001b[0;36m0.01\u001b[0m\u001b[0;34m\u001b[0m\u001b[0;34m\u001b[0m\u001b[0m\n\u001b[0;32m----> 2\u001b[0;31m \u001b[0mtrain_opt\u001b[0m \u001b[0;34m=\u001b[0m \u001b[0mtf\u001b[0m\u001b[0;34m.\u001b[0m\u001b[0mtrain\u001b[0m\u001b[0;34m.\u001b[0m\u001b[0mGradientDescentOptimizer\u001b[0m\u001b[0;34m(\u001b[0m\u001b[0mlearning_rate\u001b[0m\u001b[0;34m)\u001b[0m\u001b[0;34m.\u001b[0m\u001b[0mminimize\u001b[0m\u001b[0;34m(\u001b[0m\u001b[0merror\u001b[0m\u001b[0;34m)\u001b[0m\u001b[0;34m\u001b[0m\u001b[0;34m\u001b[0m\u001b[0m\n\u001b[0m\u001b[1;32m      3\u001b[0m \u001b[0;34m\u001b[0m\u001b[0m\n\u001b[1;32m      4\u001b[0m \u001b[0msess\u001b[0m \u001b[0;34m=\u001b[0m \u001b[0mtf\u001b[0m\u001b[0;34m.\u001b[0m\u001b[0mSession\u001b[0m\u001b[0;34m(\u001b[0m\u001b[0;34m)\u001b[0m\u001b[0;34m\u001b[0m\u001b[0;34m\u001b[0m\u001b[0m\n\u001b[1;32m      5\u001b[0m \u001b[0minit\u001b[0m\u001b[0;34m=\u001b[0m \u001b[0mtf\u001b[0m\u001b[0;34m.\u001b[0m\u001b[0mglobal_variables_initializer\u001b[0m\u001b[0;34m(\u001b[0m\u001b[0;34m)\u001b[0m\u001b[0;34m\u001b[0m\u001b[0;34m\u001b[0m\u001b[0m\n",
            "\u001b[0;31mAttributeError\u001b[0m: module 'tensorflow._api.v2.train' has no attribute 'GradientDescentOptimizer'"
          ]
        }
      ]
    },
    {
      "cell_type": "code",
      "metadata": {
        "colab": {
          "base_uri": "https://localhost:8080/",
          "height": 265
        },
        "id": "NVP1MLIW_dfq",
        "outputId": "2fe6e8b5-7b25-478f-e38f-de3945f7f6fb"
      },
      "source": [
        "plt.scatter(X_train, y_train)\n",
        "y_test = X_train*w_val\n",
        "plt.plot(X_train, y_test)\n",
        "plt.show()"
      ],
      "execution_count": null,
      "outputs": [
        {
          "output_type": "display_data",
          "data": {
            "image/png": "[encoded data removed]",
            "text/plain": [
              "<Figure size 432x288 with 1 Axes>"
            ]
          },
          "metadata": {
            "tags": [],
            "needs_background": "light"
          }
        }
      ]
    },
    {
      "cell_type": "markdown",
      "metadata": {
        "id": "JFgsJwcXA_39"
      },
      "source": [
        "# Polynomial model"
      ]
    },
    {
      "cell_type": "code",
      "metadata": {
        "id": "jeokwGbkAs2b"
      },
      "source": [
        "count = 6\n",
        "y_coef = [1,2,3,4,5,6]\n",
        "y_res=0\n",
        "for i in range(count):\n",
        "  y_res+= y_coef[i] * np.power(X_train, i)\n",
        "\n"
      ],
      "execution_count": null,
      "outputs": []
    }
  ]
}