{
  "nbformat": 4,
  "nbformat_minor": 0,
  "metadata": {
    "colab": {
      "name": "NeuralNet2.ipynb",
      "provenance": [],
      "collapsed_sections": [],
      "authorship_tag": "ABX9TyMMIsRvIXhzxAW3BAMpttTw",
      "include_colab_link": true
    },
    "kernelspec": {
      "name": "python3",
      "display_name": "Python 3"
    }
  },
  "cells": [
    {
      "cell_type": "markdown",
      "metadata": {
        "id": "view-in-github",
        "colab_type": "text"
      },
      "source": [
        "<a href=\"https://colab.research.google.com/github/Kaleriaa/PythonNeu/blob/main/NeuralNet2.ipynb\" target=\"_parent\"><img src=\"https://colab.research.google.com/assets/colab-badge.svg\" alt=\"Open In Colab\"/></a>"
      ]
    },
    {
      "cell_type": "code",
      "metadata": {
        "id": "4E-yCQgX5CdQ"
      },
      "source": [
        "import numpy as np\n",
        "import matplotlib.pyplot as plt\n",
        "import gzip"
      ],
      "execution_count": null,
      "outputs": []
    },
    {
      "cell_type": "code",
      "metadata": {
        "id": "nr9ry3WA5wTg"
      },
      "source": [
        "%%bash\n",
        "\n",
        "rm -Rf train-images-idx3-ubyte.gz\n",
        "rm -Rf train-labels-idx1-ubyte.gz\n",
        "wget -q http://yann.lecun.com/exdb/mnist/train-images-idx3-ubyte.gz\n",
        "wget -q http://yann.lecun.com/exdb/mnist/train-labels-idx1-ubyte.gz"
      ],
      "execution_count": null,
      "outputs": []
    },
    {
      "cell_type": "code",
      "metadata": {
        "id": "1A9WcIpJK_Ae"
      },
      "source": [
        "with gzip.open('train-labels-idx1-ubyte.gz') as train_label:\n",
        "  train_data = train_label.read()\n",
        "  \n",
        "label_data  = train_data[8:]\n",
        "assert len(label_data) == 60000\n",
        "labels = [int(label_byte) for label_byte in label_data]\n",
        "assert min(labels)==0 and max(labels)==9\n",
        "assert len(label_data) == 60000"
      ],
      "execution_count": null,
      "outputs": []
    },
    {
      "cell_type": "code",
      "metadata": {
        "colab": {
          "base_uri": "https://localhost:8080/"
        },
        "id": "616uzgEGz5_K",
        "outputId": "75055725-de5b-4fdd-acc1-e2392e81d35a"
      },
      "source": [
        "images = []\n",
        "size_image = 28*28\n",
        "with gzip.open('train-images-idx3-ubyte.gz') as train_image:\n",
        "  train_image.read(4*4)\n",
        "  i = 0\n",
        "  for i in range(60000):\n",
        "    image = train_image.read(size=size_image)\n",
        "    assert len(image) == size_image\n",
        "    np_image = np.frombuffer(image, dtype='uint8') / 255\n",
        "    images.append(np_image)\n",
        "\n",
        "images = np.array(images)\n",
        "images.shape"
      ],
      "execution_count": null,
      "outputs": [
        {
          "output_type": "execute_result",
          "data": {
            "text/plain": [
              "(60000, 784)"
            ]
          },
          "metadata": {
            "tags": []
          },
          "execution_count": 5
        }
      ]
    },
    {
      "cell_type": "code",
      "metadata": {
        "id": "jAthitVp3WQU"
      },
      "source": [
        "def picture(pixels: np.array):\n",
        "  plt.imshow(pixels.reshape((28,28)), cmap='gray')\n",
        "  plt.show()"
      ],
      "execution_count": null,
      "outputs": []
    },
    {
      "cell_type": "code",
      "metadata": {
        "colab": {
          "base_uri": "https://localhost:8080/",
          "height": 265
        },
        "id": "J9mupcqb4i9n",
        "outputId": "58b66ec4-81bf-4928-e7b1-ec99a2b1a488"
      },
      "source": [
        "picture(images[165])"
      ],
      "execution_count": null,
      "outputs": [
        {
          "output_type": "display_data",
          "data": {
            "image/png": "[encoded data removed]",
            "text/plain": [
              "<Figure size 432x288 with 1 Axes>"
            ]
          },
          "metadata": {
            "tags": [],
            "needs_background": "light"
          }
        }
      ]
    },
    {
      "cell_type": "code",
      "metadata": {
        "colab": {
          "base_uri": "https://localhost:8080/"
        },
        "id": "65ug-AnR5HFy",
        "outputId": "6f5dd6f6-28a3-4586-b992-261e7189289f"
      },
      "source": [
        "from sklearn.preprocessing import OneHotEncoder\n",
        "np_label = np.array(labels).reshape((-1,1))\n",
        "encoder = OneHotEncoder(categories= 'auto')\n",
        "hot_label = encoder.fit_transform(np_label).toarray()\n",
        "\n",
        "hot_label"
      ],
      "execution_count": null,
      "outputs": [
        {
          "output_type": "execute_result",
          "data": {
            "text/plain": [
              "array([[0., 0., 0., ..., 0., 0., 0.],\n",
              "       [1., 0., 0., ..., 0., 0., 0.],\n",
              "       [0., 0., 0., ..., 0., 0., 0.],\n",
              "       ...,\n",
              "       [0., 0., 0., ..., 0., 0., 0.],\n",
              "       [0., 0., 0., ..., 0., 0., 0.],\n",
              "       [0., 0., 0., ..., 0., 1., 0.]])"
            ]
          },
          "metadata": {
            "tags": []
          },
          "execution_count": 19
        }
      ]
    },
    {
      "cell_type": "code",
      "metadata": {
        "colab": {
          "base_uri": "https://localhost:8080/"
        },
        "id": "ZuBJ2XSCAquc",
        "outputId": "82004dfa-c792-4470-b84a-773090062d59"
      },
      "source": [
        "hot_label[666]"
      ],
      "execution_count": null,
      "outputs": [
        {
          "output_type": "execute_result",
          "data": {
            "text/plain": [
              "array([1., 0., 0., 0., 0., 0., 0., 0., 0., 0.])"
            ]
          },
          "metadata": {
            "tags": []
          },
          "execution_count": 20
        }
      ]
    },
    {
      "cell_type": "code",
      "metadata": {
        "colab": {
          "base_uri": "https://localhost:8080/",
          "height": 265
        },
        "id": "txyTGtJpBxr8",
        "outputId": "b8d3519b-21a0-49ca-d541-5e37a9fe108c"
      },
      "source": [
        "picture(images[666])"
      ],
      "execution_count": null,
      "outputs": [
        {
          "output_type": "display_data",
          "data": {
            "image/png": "[encoded data removed]",
            "text/plain": [
              "<Figure size 432x288 with 1 Axes>"
            ]
          },
          "metadata": {
            "tags": [],
            "needs_background": "light"
          }
        }
      ]
    },
    {
      "cell_type": "code",
      "metadata": {
        "colab": {
          "base_uri": "https://localhost:8080/"
        },
        "id": "5QP9AAThE-JK",
        "outputId": "c7a7d22d-0644-4581-bac7-d7d4fbd0e836"
      },
      "source": [
        "from sklearn.model_selection import train_test_split\n",
        "X_train, X_test, y_train, y_test = train_test_split(images, hot_label)\n",
        "print(X_train.shape)\n",
        "print(X_test.shape)"
      ],
      "execution_count": null,
      "outputs": [
        {
          "output_type": "stream",
          "text": [
            "(45000, 784)\n",
            "(15000, 784)\n"
          ],
          "name": "stdout"
        }
      ]
    },
    {
      "cell_type": "markdown",
      "metadata": {
        "id": "pbK6ssOAqWq8"
      },
      "source": [
        "# Neural Network"
      ]
    },
    {
      "cell_type": "code",
      "metadata": {
        "colab": {
          "base_uri": "https://localhost:8080/"
        },
        "id": "vUFZ7L9rGi8f",
        "outputId": "4c40851b-a50a-48f2-a508-ac068a295dc3"
      },
      "source": [
        "import tensorflow.keras as keras\n",
        "from sklearn.metrics import confusion_matrix\n",
        "model = keras.Sequential()\n",
        "model.add(keras.layers.Dense(input_shape=(size_image,), units=128, activation='relu'))\n",
        "model.add(keras.layers.Dense(10, activation='softmax'))\n",
        "\n",
        "model.summary()\n",
        "\n",
        "model.compile(optimizer='sgd',\n",
        "              loss='categorical_crossentropy',\n",
        "              metrics=['accuracy'])"
      ],
      "execution_count": null,
      "outputs": [
        {
          "output_type": "stream",
          "text": [
            "Model: \"sequential_1\"\n",
            "_________________________________________________________________\n",
            "Layer (type)                 Output Shape              Param #   \n",
            "=================================================================\n",
            "dense (Dense)                (None, 128)               100480    \n",
            "_________________________________________________________________\n",
            "dense_1 (Dense)              (None, 10)                1290      \n",
            "=================================================================\n",
            "Total params: 101,770\n",
            "Trainable params: 101,770\n",
            "Non-trainable params: 0\n",
            "_________________________________________________________________\n"
          ],
          "name": "stdout"
        }
      ]
    },
    {
      "cell_type": "code",
      "metadata": {
        "colab": {
          "base_uri": "https://localhost:8080/"
        },
        "id": "-JrUy07KVXhk",
        "outputId": "729f41b6-b567-495e-e0ad-be3e4d5414d9"
      },
      "source": [
        "model.fit(X_train, y_train, epochs=20, batch_size=128)"
      ],
      "execution_count": null,
      "outputs": [
        {
          "output_type": "stream",
          "text": [
            "Epoch 1/20\n",
            "352/352 [==============================] - 2s 3ms/step - loss: 1.7784 - accuracy: 0.4953\n",
            "Epoch 2/20\n",
            "352/352 [==============================] - 1s 3ms/step - loss: 0.7274 - accuracy: 0.8399\n",
            "Epoch 3/20\n",
            "352/352 [==============================] - 1s 3ms/step - loss: 0.5245 - accuracy: 0.8695\n",
            "Epoch 4/20\n",
            "352/352 [==============================] - 1s 3ms/step - loss: 0.4507 - accuracy: 0.8810\n",
            "Epoch 5/20\n",
            "352/352 [==============================] - 1s 3ms/step - loss: 0.4118 - accuracy: 0.8900\n",
            "Epoch 6/20\n",
            "352/352 [==============================] - 1s 3ms/step - loss: 0.3807 - accuracy: 0.8963\n",
            "Epoch 7/20\n",
            "352/352 [==============================] - 1s 3ms/step - loss: 0.3589 - accuracy: 0.9019\n",
            "Epoch 8/20\n",
            "352/352 [==============================] - 1s 3ms/step - loss: 0.3395 - accuracy: 0.9057\n",
            "Epoch 9/20\n",
            "352/352 [==============================] - 1s 3ms/step - loss: 0.3247 - accuracy: 0.9101\n",
            "Epoch 10/20\n",
            "352/352 [==============================] - 1s 3ms/step - loss: 0.3098 - accuracy: 0.9136\n",
            "Epoch 11/20\n",
            "352/352 [==============================] - 1s 3ms/step - loss: 0.3059 - accuracy: 0.9147\n",
            "Epoch 12/20\n",
            "352/352 [==============================] - 1s 3ms/step - loss: 0.3049 - accuracy: 0.9146\n",
            "Epoch 13/20\n",
            "352/352 [==============================] - 1s 3ms/step - loss: 0.2922 - accuracy: 0.9170\n",
            "Epoch 14/20\n",
            "352/352 [==============================] - 1s 3ms/step - loss: 0.2827 - accuracy: 0.9214\n",
            "Epoch 15/20\n",
            "352/352 [==============================] - 1s 3ms/step - loss: 0.2766 - accuracy: 0.9221\n",
            "Epoch 16/20\n",
            "352/352 [==============================] - 1s 3ms/step - loss: 0.2737 - accuracy: 0.9240\n",
            "Epoch 17/20\n",
            "352/352 [==============================] - 1s 3ms/step - loss: 0.2664 - accuracy: 0.9265\n",
            "Epoch 18/20\n",
            "352/352 [==============================] - 1s 3ms/step - loss: 0.2645 - accuracy: 0.9264\n",
            "Epoch 19/20\n",
            "352/352 [==============================] - 1s 3ms/step - loss: 0.2533 - accuracy: 0.9307\n",
            "Epoch 20/20\n",
            "352/352 [==============================] - 1s 3ms/step - loss: 0.2466 - accuracy: 0.9318\n"
          ],
          "name": "stdout"
        },
        {
          "output_type": "execute_result",
          "data": {
            "text/plain": [
              "<tensorflow.python.keras.callbacks.History at 0x7f77d7f48cc0>"
            ]
          },
          "metadata": {
            "tags": []
          },
          "execution_count": 33
        }
      ]
    },
    {
      "cell_type": "code",
      "metadata": {
        "colab": {
          "base_uri": "https://localhost:8080/"
        },
        "id": "53uFeQG8Wwoz",
        "outputId": "2087d270-cc97-4482-a6dd-e0dd65c6924e"
      },
      "source": [
        "model.evaluate(X_test,  y_test)"
      ],
      "execution_count": null,
      "outputs": [
        {
          "output_type": "stream",
          "text": [
            "469/469 [==============================] - 1s 1ms/step - loss: 0.2453 - accuracy: 0.9296\n"
          ],
          "name": "stdout"
        },
        {
          "output_type": "execute_result",
          "data": {
            "text/plain": [
              "[0.24534913897514343, 0.9296000003814697]"
            ]
          },
          "metadata": {
            "tags": []
          },
          "execution_count": 34
        }
      ]
    },
    {
      "cell_type": "code",
      "metadata": {
        "colab": {
          "base_uri": "https://localhost:8080/"
        },
        "id": "co1eGYkbXFCl",
        "outputId": "c157ee39-1648-4bb5-bb53-6ab42fee4d69"
      },
      "source": [
        "y_test[999]"
      ],
      "execution_count": null,
      "outputs": [
        {
          "output_type": "execute_result",
          "data": {
            "text/plain": [
              "array([0., 0., 0., 1., 0., 0., 0., 0., 0., 0.])"
            ]
          },
          "metadata": {
            "tags": []
          },
          "execution_count": 35
        }
      ]
    },
    {
      "cell_type": "code",
      "metadata": {
        "colab": {
          "base_uri": "https://localhost:8080/",
          "height": 265
        },
        "id": "Rk8oLdYDX0bS",
        "outputId": "9fb55566-4af0-4729-9d80-24c8a0109ef6"
      },
      "source": [
        "picture(X_test[999])"
      ],
      "execution_count": null,
      "outputs": [
        {
          "output_type": "display_data",
          "data": {
            "image/png": "[encoded data removed]",
            "text/plain": [
              "<Figure size 432x288 with 1 Axes>"
            ]
          },
          "metadata": {
            "tags": [],
            "needs_background": "light"
          }
        }
      ]
    },
    {
      "cell_type": "code",
      "metadata": {
        "id": "WzI5akDyYtKu"
      },
      "source": [
        "predict_res = model.predict(X_test[999].reshape((1,-1)))\n"
      ],
      "execution_count": null,
      "outputs": []
    },
    {
      "cell_type": "code",
      "metadata": {
        "colab": {
          "base_uri": "https://localhost:8080/"
        },
        "id": "GykX6eEtbyUU",
        "outputId": "644f3c44-a0c3-4b61-a99c-c87b331651a8"
      },
      "source": [
        "predict_res.sum()"
      ],
      "execution_count": null,
      "outputs": [
        {
          "output_type": "execute_result",
          "data": {
            "text/plain": [
              "1.0"
            ]
          },
          "metadata": {
            "tags": []
          },
          "execution_count": 44
        }
      ]
    },
    {
      "cell_type": "code",
      "metadata": {
        "colab": {
          "base_uri": "https://localhost:8080/"
        },
        "id": "qHeedxibb9gJ",
        "outputId": "b106bad6-a926-44b2-9c1c-b2c3df617edc"
      },
      "source": [
        "predict_res"
      ],
      "execution_count": null,
      "outputs": [
        {
          "output_type": "execute_result",
          "data": {
            "text/plain": [
              "array([[3.6654358e-03, 1.8545397e-03, 5.0718482e-03, 6.7364246e-01,\n",
              "        2.1271417e-05, 3.0016354e-01, 1.4189185e-02, 6.1282626e-05,\n",
              "        1.0378390e-03, 2.9263337e-04]], dtype=float32)"
            ]
          },
          "metadata": {
            "tags": []
          },
          "execution_count": 45
        }
      ]
    },
    {
      "cell_type": "code",
      "metadata": {
        "colab": {
          "base_uri": "https://localhost:8080/"
        },
        "id": "beG66p5pcRwc",
        "outputId": "c0319b74-be26-46f5-d727-d5f9e7742a00"
      },
      "source": [
        "y_test[3500]"
      ],
      "execution_count": null,
      "outputs": [
        {
          "output_type": "execute_result",
          "data": {
            "text/plain": [
              "array([0., 0., 0., 0., 0., 0., 0., 1., 0., 0.])"
            ]
          },
          "metadata": {
            "tags": []
          },
          "execution_count": 49
        }
      ]
    },
    {
      "cell_type": "code",
      "metadata": {
        "colab": {
          "base_uri": "https://localhost:8080/",
          "height": 265
        },
        "id": "P1KMPGhTcZKL",
        "outputId": "260c826c-34fb-42d2-adc6-bf99d657f1fb"
      },
      "source": [
        "picture(X_test[3500])"
      ],
      "execution_count": null,
      "outputs": [
        {
          "output_type": "display_data",
          "data": {
            "image/png": "[encoded data removed]",
            "text/plain": [
              "<Figure size 432x288 with 1 Axes>"
            ]
          },
          "metadata": {
            "tags": [],
            "needs_background": "light"
          }
        }
      ]
    },
    {
      "cell_type": "code",
      "metadata": {
        "colab": {
          "base_uri": "https://localhost:8080/"
        },
        "id": "CNWeKkYUcl0h",
        "outputId": "436ea3d0-a171-420c-bf8d-940e59a25ff1"
      },
      "source": [
        "digit_pr= model.predict(X_test[3500].reshape((1,-1)))\n",
        "digit_pr.sum()\n",
        "digit_pr"
      ],
      "execution_count": null,
      "outputs": [
        {
          "output_type": "execute_result",
          "data": {
            "text/plain": [
              "array([[1.2496801e-03, 6.0850864e-05, 3.1224592e-04, 1.6478992e-03,\n",
              "        4.1726916e-04, 3.2657546e-03, 3.1423901e-05, 7.7064717e-01,\n",
              "        1.5710416e-03, 2.2079653e-01]], dtype=float32)"
            ]
          },
          "metadata": {
            "tags": []
          },
          "execution_count": 51
        }
      ]
    },
    {
      "cell_type": "markdown",
      "metadata": {
        "id": "wftqPm2FqFRB"
      },
      "source": [
        "# RandomForestClassifier model"
      ]
    },
    {
      "cell_type": "code",
      "metadata": {
        "colab": {
          "base_uri": "https://localhost:8080/"
        },
        "id": "B5GrSI79eI5L",
        "outputId": "5d10a5dc-18c4-46db-f882-22ff7bb27185"
      },
      "source": [
        "from sklearn.ensemble import RandomForestClassifier\n",
        "rf = RandomForestClassifier()\n",
        "rf.fit(X_train, y_train)"
      ],
      "execution_count": null,
      "outputs": [
        {
          "output_type": "execute_result",
          "data": {
            "text/plain": [
              "RandomForestClassifier(bootstrap=True, ccp_alpha=0.0, class_weight=None,\n",
              "                       criterion='gini', max_depth=None, max_features='auto',\n",
              "                       max_leaf_nodes=None, max_samples=None,\n",
              "                       min_impurity_decrease=0.0, min_impurity_split=None,\n",
              "                       min_samples_leaf=1, min_samples_split=2,\n",
              "                       min_weight_fraction_leaf=0.0, n_estimators=100,\n",
              "                       n_jobs=None, oob_score=False, random_state=None,\n",
              "                       verbose=0, warm_start=False)"
            ]
          },
          "metadata": {
            "tags": []
          },
          "execution_count": 52
        }
      ]
    },
    {
      "cell_type": "code",
      "metadata": {
        "colab": {
          "base_uri": "https://localhost:8080/"
        },
        "id": "flUPnp26hO6y",
        "outputId": "e332bf75-40ed-4a12-f012-ff5d5da5e641"
      },
      "source": [
        "rf_predict = rf.predict(X_test[3500].reshape((1,-1)))\n",
        "rf_predict.sum()"
      ],
      "execution_count": null,
      "outputs": [
        {
          "output_type": "execute_result",
          "data": {
            "text/plain": [
              "1.0"
            ]
          },
          "metadata": {
            "tags": []
          },
          "execution_count": 55
        }
      ]
    },
    {
      "cell_type": "code",
      "metadata": {
        "colab": {
          "base_uri": "https://localhost:8080/"
        },
        "id": "E_Ckv-XCh-Jq",
        "outputId": "fe787687-6e80-4ead-f8da-6861aea426fd"
      },
      "source": [
        "rf_predict"
      ],
      "execution_count": null,
      "outputs": [
        {
          "output_type": "execute_result",
          "data": {
            "text/plain": [
              "array([[0., 0., 0., 0., 0., 0., 0., 1., 0., 0.]])"
            ]
          },
          "metadata": {
            "tags": []
          },
          "execution_count": 56
        }
      ]
    },
    {
      "cell_type": "code",
      "metadata": {
        "id": "0Tld2WgSidw-"
      },
      "source": [
        "from sklearn.model_selection import GridSearchCV\n",
        "rf_auto =  RandomForestClassifier(n_jobs=2)\n",
        "\n",
        "param_rf= {\n",
        "     \"criterion\" : [\"gini\", \"entropy\"]\n",
        "    \n",
        "}\n",
        "gs = GridSearchCV(rf_auto, param_rf, scoring='neg_mean_absolute_error', cv=3, n_jobs=-1)"
      ],
      "execution_count": null,
      "outputs": []
    },
    {
      "cell_type": "code",
      "metadata": {
        "colab": {
          "base_uri": "https://localhost:8080/"
        },
        "id": "GvLUA9pZii20",
        "outputId": "40479b1d-6de1-4e59-af4a-c5a6424e320a"
      },
      "source": [
        "gs.fit(X_train, y_train)"
      ],
      "execution_count": null,
      "outputs": [
        {
          "output_type": "execute_result",
          "data": {
            "text/plain": [
              "GridSearchCV(cv=3, error_score=nan,\n",
              "             estimator=RandomForestClassifier(bootstrap=True, ccp_alpha=0.0,\n",
              "                                              class_weight=None,\n",
              "                                              criterion='gini', max_depth=None,\n",
              "                                              max_features='auto',\n",
              "                                              max_leaf_nodes=None,\n",
              "                                              max_samples=None,\n",
              "                                              min_impurity_decrease=0.0,\n",
              "                                              min_impurity_split=None,\n",
              "                                              min_samples_leaf=1,\n",
              "                                              min_samples_split=2,\n",
              "                                              min_weight_fraction_leaf=0.0,\n",
              "                                              n_estimators=100, n_jobs=2,\n",
              "                                              oob_score=False,\n",
              "                                              random_state=None, verbose=0,\n",
              "                                              warm_start=False),\n",
              "             iid='deprecated', n_jobs=-1,\n",
              "             param_grid={'criterion': ['gini', 'entropy']},\n",
              "             pre_dispatch='2*n_jobs', refit=True, return_train_score=False,\n",
              "             scoring='neg_mean_absolute_error', verbose=0)"
            ]
          },
          "metadata": {
            "tags": []
          },
          "execution_count": 66
        }
      ]
    },
    {
      "cell_type": "code",
      "metadata": {
        "colab": {
          "base_uri": "https://localhost:8080/"
        },
        "id": "21z9IObxo-zP",
        "outputId": "652337d3-51f9-4407-ac21-220af02410a7"
      },
      "source": [
        "gs.best_params_"
      ],
      "execution_count": null,
      "outputs": [
        {
          "output_type": "execute_result",
          "data": {
            "text/plain": [
              "{'criterion': 'entropy'}"
            ]
          },
          "metadata": {
            "tags": []
          },
          "execution_count": 68
        }
      ]
    },
    {
      "cell_type": "code",
      "metadata": {
        "colab": {
          "base_uri": "https://localhost:8080/"
        },
        "id": "U9hH0rVbpGwV",
        "outputId": "f522f669-d0de-4f98-fc0f-42740279ebff"
      },
      "source": [
        "gs.best_score_"
      ],
      "execution_count": null,
      "outputs": [
        {
          "output_type": "execute_result",
          "data": {
            "text/plain": [
              "-0.012797777777777778"
            ]
          },
          "metadata": {
            "tags": []
          },
          "execution_count": 69
        }
      ]
    },
    {
      "cell_type": "code",
      "metadata": {
        "colab": {
          "base_uri": "https://localhost:8080/"
        },
        "id": "cfNnxHlXpLdp",
        "outputId": "c89892a0-5358-4bb2-8157-86851270a104"
      },
      "source": [
        "gs_pred = gs.predict(X_test[1010].reshape((1,-1)))\n",
        "gs_pred.sum()"
      ],
      "execution_count": null,
      "outputs": [
        {
          "output_type": "execute_result",
          "data": {
            "text/plain": [
              "1.0"
            ]
          },
          "metadata": {
            "tags": []
          },
          "execution_count": 70
        }
      ]
    },
    {
      "cell_type": "code",
      "metadata": {
        "colab": {
          "base_uri": "https://localhost:8080/"
        },
        "id": "y15PA_Bfphg5",
        "outputId": "2c902606-a575-4e34-a93a-35996b0c555c"
      },
      "source": [
        "gs_pred"
      ],
      "execution_count": null,
      "outputs": [
        {
          "output_type": "execute_result",
          "data": {
            "text/plain": [
              "array([[0., 0., 0., 0., 1., 0., 0., 0., 0., 0.]])"
            ]
          },
          "metadata": {
            "tags": []
          },
          "execution_count": 71
        }
      ]
    },
    {
      "cell_type": "code",
      "metadata": {
        "colab": {
          "base_uri": "https://localhost:8080/",
          "height": 265
        },
        "id": "bS3x4acKp89_",
        "outputId": "89814b51-a34c-44c7-a139-62c528c4047f"
      },
      "source": [
        "picture(X_test[1010])"
      ],
      "execution_count": null,
      "outputs": [
        {
          "output_type": "display_data",
          "data": {
            "image/png": "[encoded data removed]",
            "text/plain": [
              "<Figure size 432x288 with 1 Axes>"
            ]
          },
          "metadata": {
            "tags": [],
            "needs_background": "light"
          }
        }
      ]
    }
  ]
}